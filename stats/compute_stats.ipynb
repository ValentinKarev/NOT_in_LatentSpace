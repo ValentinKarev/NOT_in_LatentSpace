{
 "cells": [
  {
   "cell_type": "code",
   "execution_count": 1,
   "id": "a4eebe95-2bf7-4f48-9b92-06464060920e",
   "metadata": {},
   "outputs": [
    {
     "name": "stderr",
     "output_type": "stream",
     "text": [
      "/home/user/conda/lib/python3.7/site-packages/librosa/core/constantq.py:1059: DeprecationWarning: `np.complex` is a deprecated alias for the builtin `complex`. To silence this warning, use `complex` by itself. Doing this will not modify any behavior and is safe. If you specifically wanted the numpy scalar type, use `np.complex128` here.\n",
      "Deprecated in NumPy 1.20; for more details and guidance: https://numpy.org/devdocs/release/1.20.0-notes.html#deprecations\n",
      "  dtype=np.complex,\n"
     ]
    }
   ],
   "source": [
    "import os, sys\n",
    "sys.path.append(\"..\")\n",
    "\n",
    "import matplotlib\n",
    "import numpy as np\n",
    "import matplotlib.pyplot as plt\n",
    "%matplotlib inline \n",
    "\n",
    "import numpy as np\n",
    "import torch\n",
    "import torch.nn as nn\n",
    "import torchvision\n",
    "import gc\n",
    "\n",
    "from src.tools import unfreeze, freeze\n",
    "from src.tools import load_dataset, get_loader_stats\n",
    "\n",
    "from copy import deepcopy\n",
    "import json\n",
    "\n",
    "from tqdm import tqdm_notebook as tqdm\n",
    "from IPython.display import clear_output\n",
    "\n",
    "# This needed to use dataloaders for some datasets\n",
    "from PIL import PngImagePlugin\n",
    "LARGE_ENOUGH_NUMBER = 100\n",
    "PngImagePlugin.MAX_TEXT_CHUNK = LARGE_ENOUGH_NUMBER * (1024**2)"
   ]
  },
  {
   "cell_type": "code",
   "execution_count": 2,
   "id": "7fb76db0-7f16-4afc-9a19-092067894875",
   "metadata": {},
   "outputs": [],
   "source": [
    "DEVICE_ID = 0\n",
    "\n",
    "DATASET_LIST = [\n",
    "#    ('handbag', '../../data/handbag_128.hdf5', 64),\n",
    "#    ('handbag', '../../data/handbag_128.hdf5', 128),\n",
    "#    ('shoes', '../../data/shoes_128.hdf5', 64),\n",
    "#    ('shoes', '../../data/shoes_128.hdf5', 128),\n",
    "    ('celeba_female', '/home/jovyan/data/CelebA_HQ_face_gender_dataset', 64),\n",
    "    ('celeba_male', '/home/jovyan/data/CelebA_HQ_face_gender_dataset', 64),\n",
    "#    ('aligned_anime_faces', '../../data/aligned_anime_faces', 64),\n",
    "#    ('aligned_anime_faces', '../../data/aligned_anime_faces', 128),\n",
    "]\n",
    "\n",
    "assert torch.cuda.is_available()\n",
    "torch.cuda.set_device(f'cuda:{DEVICE_ID}')"
   ]
  },
  {
   "cell_type": "code",
   "execution_count": 3,
   "id": "78a2dfd1-3452-4fea-9a86-7bb6412a6792",
   "metadata": {},
   "outputs": [],
   "source": [
    "from torchvision.datasets import ImageFolder\n",
    "dataset = ImageFolder('/home/jovyan/data/CelebA_HQ_face_gender_dataset')"
   ]
  },
  {
   "cell_type": "code",
   "execution_count": 4,
   "id": "2dbf8f1d-28fb-4e1d-af0b-4bf7b9ebd789",
   "metadata": {},
   "outputs": [
    {
     "data": {
      "text/plain": [
       "Dataset ImageFolder\n",
       "    Number of datapoints: 30000\n",
       "    Root location: /home/jovyan/data/CelebA_HQ_face_gender_dataset"
      ]
     },
     "execution_count": 4,
     "metadata": {},
     "output_type": "execute_result"
    }
   ],
   "source": [
    "dataset"
   ]
  },
  {
   "cell_type": "code",
   "execution_count": 5,
   "id": "8ec738ac-2a60-4c17-a744-7a0fcd128bc0",
   "metadata": {},
   "outputs": [],
   "source": [
    "sampler, test_sampler = load_dataset('celeba_female', '/home/jovyan/data/CelebA_HQ_face_gender_dataset', img_size=64)"
   ]
  },
  {
   "cell_type": "code",
   "execution_count": 6,
   "id": "ec81e657-b706-4387-b2db-aa4731e3f34f",
   "metadata": {},
   "outputs": [],
   "source": [
    "from tqdm import tqdm"
   ]
  },
  {
   "cell_type": "code",
   "execution_count": 7,
   "id": "e3e675d5-8faa-439e-a81a-a5b66b426582",
   "metadata": {},
   "outputs": [
    {
     "name": "stderr",
     "output_type": "stream",
     "text": [
      "100%|██████████| 267/267 [01:43<00:00,  2.59it/s]\n"
     ]
    }
   ],
   "source": [
    "for batch in tqdm(sampler.loader):\n",
    "    pass"
   ]
  },
  {
   "cell_type": "code",
   "execution_count": 8,
   "id": "ca66e327-fbc5-47d5-9c00-f28d3b6c6557",
   "metadata": {},
   "outputs": [
    {
     "name": "stdout",
     "output_type": "stream",
     "text": [
      "Architecture:        x86_64\n",
      "CPU op-mode(s):      32-bit, 64-bit\n",
      "Byte Order:          Little Endian\n",
      "CPU(s):              96\n",
      "On-line CPU(s) list: 0-95\n",
      "Thread(s) per core:  2\n",
      "Core(s) per socket:  24\n",
      "Socket(s):           2\n",
      "NUMA node(s):        2\n",
      "Vendor ID:           GenuineIntel\n",
      "CPU family:          6\n",
      "Model:               85\n",
      "Model name:          Intel(R) Xeon(R) Platinum 8168 CPU @ 2.70GHz\n",
      "Stepping:            4\n",
      "CPU MHz:             3307.454\n",
      "CPU max MHz:         3700.0000\n",
      "CPU min MHz:         1200.0000\n",
      "BogoMIPS:            5400.00\n",
      "Virtualization:      VT-x\n",
      "L1d cache:           32K\n",
      "L1i cache:           32K\n",
      "L2 cache:            1024K\n",
      "L3 cache:            33792K\n",
      "NUMA node0 CPU(s):   0-23,48-71\n",
      "NUMA node1 CPU(s):   24-47,72-95\n",
      "Flags:               fpu vme de pse tsc msr pae mce cx8 apic sep mtrr pge mca cmov pat pse36 clflush dts acpi mmx fxsr sse sse2 ss ht tm pbe syscall nx pdpe1gb rdtscp lm constant_tsc art arch_perfmon pebs bts rep_good nopl xtopology nonstop_tsc cpuid aperfmperf pni pclmulqdq dtes64 monitor ds_cpl vmx smx est tm2 ssse3 sdbg fma cx16 xtpr pdcm pcid dca sse4_1 sse4_2 x2apic movbe popcnt tsc_deadline_timer aes xsave avx f16c rdrand lahf_lm abm 3dnowprefetch cpuid_fault epb cat_l3 cdp_l3 invpcid_single pti intel_ppin ssbd mba ibrs ibpb stibp tpr_shadow vnmi flexpriority ept vpid fsgsbase tsc_adjust bmi1 hle avx2 smep bmi2 erms invpcid rtm cqm mpx rdt_a avx512f avx512dq rdseed adx smap clflushopt clwb intel_pt avx512cd avx512bw avx512vl xsaveopt xsavec xgetbv1 xsaves cqm_llc cqm_occup_llc cqm_mbm_total cqm_mbm_local dtherm ida arat pln pts hwp hwp_act_window hwp_epp hwp_pkg_req pku ospke md_clear flush_l1d\n"
     ]
    }
   ],
   "source": [
    "!lscpu"
   ]
  },
  {
   "cell_type": "code",
   "execution_count": 6,
   "id": "4d814b22-1212-4613-859e-9cdf6faebcca",
   "metadata": {},
   "outputs": [
    {
     "data": {
      "text/plain": [
       "tensor([[[[-0.5686, -0.5686, -0.5686,  ..., -0.6784, -0.6784, -0.6784],\n",
       "          [-0.5686, -0.5686, -0.5686,  ..., -0.6784, -0.6784, -0.6784],\n",
       "          [-0.5686, -0.5686, -0.5686,  ..., -0.6784, -0.6784, -0.6784],\n",
       "          ...,\n",
       "          [-0.0039, -0.0039, -0.0039,  ..., -0.4118, -0.3961, -0.3882],\n",
       "          [-0.0039, -0.0039, -0.0039,  ..., -0.3882, -0.3882, -0.3804],\n",
       "          [-0.0039, -0.0039, -0.0039,  ..., -0.3725, -0.3725, -0.3725]],\n",
       "\n",
       "         [[-0.5765, -0.5765, -0.5765,  ..., -0.6863, -0.6863, -0.6863],\n",
       "          [-0.5765, -0.5765, -0.5765,  ..., -0.6863, -0.6863, -0.6863],\n",
       "          [-0.5765, -0.5765, -0.5765,  ..., -0.6863, -0.6863, -0.6863],\n",
       "          ...,\n",
       "          [ 0.0431,  0.0431,  0.0431,  ..., -0.3882, -0.3725, -0.3647],\n",
       "          [ 0.0431,  0.0431,  0.0431,  ..., -0.3647, -0.3647, -0.3569],\n",
       "          [ 0.0431,  0.0431,  0.0431,  ..., -0.3490, -0.3490, -0.3490]],\n",
       "\n",
       "         [[-0.5294, -0.5294, -0.5294,  ..., -0.6471, -0.6471, -0.6471],\n",
       "          [-0.5294, -0.5294, -0.5294,  ..., -0.6471, -0.6471, -0.6471],\n",
       "          [-0.5294, -0.5294, -0.5294,  ..., -0.6471, -0.6471, -0.6471],\n",
       "          ...,\n",
       "          [ 0.1686,  0.1686,  0.1686,  ..., -0.3333, -0.3176, -0.3098],\n",
       "          [ 0.1686,  0.1686,  0.1686,  ..., -0.3255, -0.3255, -0.3176],\n",
       "          [ 0.1686,  0.1686,  0.1686,  ..., -0.3098, -0.3098, -0.3098]]]],\n",
       "       device='cuda:0')"
      ]
     },
     "execution_count": 6,
     "metadata": {},
     "output_type": "execute_result"
    }
   ],
   "source": [
    "sampler.sample(1)"
   ]
  },
  {
   "cell_type": "code",
   "execution_count": 7,
   "id": "18ca89c2-da3c-4a7e-bd86-f8683103b2c1",
   "metadata": {},
   "outputs": [
    {
     "name": "stderr",
     "output_type": "stream",
     "text": [
      "/home/user/conda/lib/python3.7/site-packages/ipykernel_launcher.py:1: TqdmDeprecationWarning: This function will be removed in tqdm==5.0.0\n",
      "Please use `tqdm.notebook.tqdm` instead of `tqdm.tqdm_notebook`\n",
      "  \"\"\"Entry point for launching an IPython kernel.\n"
     ]
    },
    {
     "data": {
      "application/vnd.jupyter.widget-view+json": {
       "model_id": "97417225b95b4af291dbe86e77e30de6",
       "version_major": 2,
       "version_minor": 0
      },
      "text/plain": [
       "  0%|          | 0/2 [00:00<?, ?it/s]"
      ]
     },
     "metadata": {},
     "output_type": "display_data"
    },
    {
     "name": "stdout",
     "output_type": "stream",
     "text": [
      "Processing celeba_female\n",
      "Dataset celeba_female loaded\n",
      "Trace of sigma: 97.47934181453752\n",
      "Stats computed\n",
      "States saved to celeba_female_64_test.json\n",
      "Processing celeba_male\n",
      "Dataset celeba_male loaded\n",
      "Trace of sigma: 114.14165870284711\n",
      "Stats computed\n",
      "States saved to celeba_male_64_test.json\n"
     ]
    }
   ],
   "source": [
    "for DATASET, DATASET_PATH, IMG_SIZE in tqdm(DATASET_LIST):\n",
    "    print('Processing {}'.format(DATASET))\n",
    "    sampler, test_sampler = load_dataset(DATASET, DATASET_PATH, img_size=IMG_SIZE)\n",
    "    print('Dataset {} loaded'.format(DATASET))\n",
    "\n",
    "    mu, sigma = get_loader_stats(test_sampler.loader)\n",
    "    print('Trace of sigma: {}'.format(np.trace(sigma)))\n",
    "    stats = {'mu' : mu.tolist(), 'sigma' : sigma.tolist()}\n",
    "    print('Stats computed')\n",
    "\n",
    "    filename = '{}_{}_test.json'.format(DATASET, IMG_SIZE)\n",
    "    with open(filename, 'w') as fp:\n",
    "        json.dump(stats, fp)\n",
    "    print('States saved to {}'.format(filename))"
   ]
  }
 ],
 "metadata": {
  "kernelspec": {
   "display_name": "Python 3 (ipykernel)",
   "language": "python",
   "name": "python3"
  },
  "language_info": {
   "codemirror_mode": {
    "name": "ipython",
    "version": 3
   },
   "file_extension": ".py",
   "mimetype": "text/x-python",
   "name": "python",
   "nbconvert_exporter": "python",
   "pygments_lexer": "ipython3",
   "version": "3.7.12"
  }
 },
 "nbformat": 4,
 "nbformat_minor": 5
}
