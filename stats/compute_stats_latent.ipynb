{
 "cells": [
  {
   "cell_type": "code",
   "execution_count": 1,
   "id": "2d5fc08e-5297-4ba8-b2cf-8502206c7f8b",
   "metadata": {},
   "outputs": [
    {
     "name": "stderr",
     "output_type": "stream",
     "text": [
      "/home/user/conda/lib/python3.7/site-packages/librosa/core/constantq.py:1059: DeprecationWarning: `np.complex` is a deprecated alias for the builtin `complex`. To silence this warning, use `complex` by itself. Doing this will not modify any behavior and is safe. If you specifically wanted the numpy scalar type, use `np.complex128` here.\n",
      "Deprecated in NumPy 1.20; for more details and guidance: https://numpy.org/devdocs/release/1.20.0-notes.html#deprecations\n",
      "  dtype=np.complex,\n"
     ]
    }
   ],
   "source": [
    "import os, sys\n",
    "sys.path.append(\"..\")\n",
    "\n",
    "import matplotlib\n",
    "import numpy as np\n",
    "import matplotlib.pyplot as plt\n",
    "%matplotlib inline \n",
    "\n",
    "import numpy as np\n",
    "import torch\n",
    "import torch.nn as nn\n",
    "import torchvision\n",
    "import gc\n",
    "\n",
    "from src.tools import unfreeze, freeze\n",
    "from src.tools import load_dataset, get_loader_stats\n",
    "\n",
    "from copy import deepcopy\n",
    "import json\n",
    "\n",
    "from tqdm import tqdm_notebook as tqdm\n",
    "from IPython.display import clear_output\n",
    "\n",
    "# This needed to use dataloaders for some datasets\n",
    "from PIL import PngImagePlugin\n",
    "LARGE_ENOUGH_NUMBER = 100\n",
    "PngImagePlugin.MAX_TEXT_CHUNK = LARGE_ENOUGH_NUMBER * (1024**2)"
   ]
  },
  {
   "cell_type": "code",
   "execution_count": 2,
   "id": "c82fe24f-1aae-4aaf-9d57-09aed093c57e",
   "metadata": {},
   "outputs": [],
   "source": [
    "DEVICE_ID = 0\n",
    "\n",
    "DATASET_LIST = [\n",
    "#    ('handbag', '../../data/handbag_128.hdf5', 64),\n",
    "#    ('handbag', '../../data/handbag_128.hdf5', 128),\n",
    "#    ('shoes', '../../data/shoes_128.hdf5', 64),\n",
    "#    ('shoes', '../../data/shoes_128.hdf5', 128),\n",
    "    ('celeba_female', '/home/jovyan/data/dataset/woman.pt', 512),\n",
    "    ('celeba_male', '/home/jovyan/data/dataset/man.pt', 512),\n",
    "#    ('aligned_anime_faces', '../../data/aligned_anime_faces', 64),\n",
    "#    ('aligned_anime_faces', '../../data/aligned_anime_faces', 128),\n",
    "]\n",
    "\n",
    "assert torch.cuda.is_available()\n",
    "torch.cuda.set_device(f'cuda:{DEVICE_ID}')"
   ]
  },
  {
   "cell_type": "code",
   "execution_count": 3,
   "id": "3f7f2201-c79a-4ab8-9311-d147aa24e598",
   "metadata": {},
   "outputs": [
    {
     "name": "stdout",
     "output_type": "stream",
     "text": [
      "42905\n"
     ]
    }
   ],
   "source": [
    "sampler, test_sampler = load_dataset('celeba_female_tensor', '/home/jovyan/data/dataset/woman.pt', img_size=512, batch_size = 32)"
   ]
  },
  {
   "cell_type": "code",
   "execution_count": 4,
   "id": "70308236-58b8-4f59-a8d4-265dc1785ea7",
   "metadata": {},
   "outputs": [],
   "source": [
    "from src.vae import latent_to_pil_from_bath_of_tensor"
   ]
  },
  {
   "cell_type": "code",
   "execution_count": 5,
   "id": "81b3a5ad-4cb6-40e9-9013-1bf89172bb60",
   "metadata": {},
   "outputs": [
    {
     "name": "stderr",
     "output_type": "stream",
     "text": [
      "/home/user/conda/lib/python3.7/site-packages/ipykernel_launcher.py:3: TqdmDeprecationWarning: This function will be removed in tqdm==5.0.0\n",
      "Please use `tqdm.notebook.tqdm` instead of `tqdm.tqdm_notebook`\n",
      "  This is separate from the ipykernel package so we can avoid doing imports until\n"
     ]
    },
    {
     "data": {
      "application/vnd.jupyter.widget-view+json": {
       "model_id": "54b4d1b6b17849258173dfd2cda549e5",
       "version_major": 2,
       "version_minor": 0
      },
      "text/plain": [
       "  0%|          | 0/135 [00:00<?, ?it/s]"
      ]
     },
     "metadata": {},
     "output_type": "display_data"
    }
   ],
   "source": [
    "dataset = []\n",
    "\n",
    "for batch in tqdm(test_sampler.loader):\n",
    "    latent = batch[0]\n",
    "    tensor = latent_to_pil_from_bath_of_tensor(latent)\n",
    "    dataset.append(tensor)"
   ]
  },
  {
   "cell_type": "code",
   "execution_count": 8,
   "id": "78052f17-aaa0-4a51-acd0-9a93dce6504a",
   "metadata": {},
   "outputs": [
    {
     "data": {
      "text/plain": [
       "135"
      ]
     },
     "execution_count": 8,
     "metadata": {},
     "output_type": "execute_result"
    }
   ],
   "source": [
    "len(dataset)"
   ]
  },
  {
   "cell_type": "code",
   "execution_count": 11,
   "id": "bb697072-03d8-4cee-a776-8aa89cf11c5e",
   "metadata": {},
   "outputs": [],
   "source": [
    "tensor = torch.vstack(dataset)"
   ]
  },
  {
   "cell_type": "code",
   "execution_count": 47,
   "id": "4dba47ad-12d8-42d2-852b-d2a3a5463673",
   "metadata": {},
   "outputs": [
    {
     "data": {
      "text/plain": [
       "torch.Size([4290, 3, 512, 512])"
      ]
     },
     "execution_count": 47,
     "metadata": {},
     "output_type": "execute_result"
    }
   ],
   "source": [
    "tensor.shape"
   ]
  },
  {
   "cell_type": "code",
   "execution_count": 19,
   "id": "0b137b57-5d87-44fa-b873-b4c4f1d4533e",
   "metadata": {},
   "outputs": [],
   "source": [
    "from torch.utils.data import TensorDataset, DataLoader, Subset\n",
    "from src.distributions import LoaderSampler"
   ]
  },
  {
   "cell_type": "code",
   "execution_count": 48,
   "id": "04f320cd-bcaf-4f92-9dce-2cae8ecd9df9",
   "metadata": {},
   "outputs": [],
   "source": [
    "test_sampler = LoaderSampler(DataLoader(TensorDataset(tensor, torch.zeros(tensor.shape[0])), shuffle=False, num_workers=0, batch_size=32), 'cuda')"
   ]
  },
  {
   "cell_type": "code",
   "execution_count": 49,
   "id": "2ba6d044-082d-42e0-8328-68725d35393c",
   "metadata": {},
   "outputs": [],
   "source": [
    "mu, sigma = get_loader_stats(test_sampler.loader)"
   ]
  },
  {
   "cell_type": "code",
   "execution_count": null,
   "id": "4a64e99b-84a5-4b36-8b7a-ab49d44c9b8b",
   "metadata": {},
   "outputs": [],
   "source": []
  },
  {
   "cell_type": "code",
   "execution_count": 15,
   "id": "a111a573-ee05-4d95-8b59-999df6c9de68",
   "metadata": {},
   "outputs": [],
   "source": [
    "stats = {'mu' : mu.tolist(), 'sigma' : sigma.tolist()}"
   ]
  },
  {
   "cell_type": "code",
   "execution_count": 16,
   "id": "451f3ea4-a261-4e68-a642-2c591e1a7142",
   "metadata": {},
   "outputs": [],
   "source": [
    "filename = 'celeba_female_tensor_512_test.json'\n",
    "with open(filename, 'w') as fp:\n",
    "    json.dump(stats, fp)"
   ]
  },
  {
   "cell_type": "code",
   "execution_count": 50,
   "id": "e7ffdd22-49f8-4055-9b05-ac5382b49719",
   "metadata": {},
   "outputs": [],
   "source": [
    "t_1 = tensor[:2145]\n",
    "t_2 = tensor[2145:]"
   ]
  },
  {
   "cell_type": "code",
   "execution_count": 52,
   "id": "7891db9a-9d5a-4701-af9f-0277f6407055",
   "metadata": {},
   "outputs": [
    {
     "data": {
      "text/plain": [
       "torch.Size([2145, 3, 512, 512])"
      ]
     },
     "execution_count": 52,
     "metadata": {},
     "output_type": "execute_result"
    }
   ],
   "source": [
    "t_2.shape"
   ]
  },
  {
   "cell_type": "code",
   "execution_count": 53,
   "id": "20110687-80d4-4379-90f4-ded210f5694d",
   "metadata": {},
   "outputs": [],
   "source": [
    "t_1 = tensor[:2145]\n",
    "t_2 = tensor[2145:]\n",
    "\n",
    "\n",
    "test_sampler_1 = LoaderSampler(DataLoader(TensorDataset(t_1, torch.zeros(t_1.shape[0])), shuffle=False, num_workers=0, batch_size=32), 'cuda')\n",
    "test_sampler_2 = LoaderSampler(DataLoader(TensorDataset(t_2, torch.zeros(t_1.shape[0])), shuffle=False, num_workers=0, batch_size=32), 'cuda')"
   ]
  },
  {
   "cell_type": "code",
   "execution_count": 54,
   "id": "f937295b-51aa-45d7-8d87-3f942ec862a4",
   "metadata": {},
   "outputs": [],
   "source": [
    "mu_1, sigma_1 = get_loader_stats(test_sampler_1.loader)"
   ]
  },
  {
   "cell_type": "code",
   "execution_count": 55,
   "id": "ce81fdc1-125b-44ce-bc90-b04d8a0055c0",
   "metadata": {},
   "outputs": [],
   "source": [
    "mu_2, sigma_2 = get_loader_stats(test_sampler_2.loader)"
   ]
  },
  {
   "cell_type": "code",
   "execution_count": 56,
   "id": "fd2309c3-d2fc-4062-bbd6-88a9a647d5c4",
   "metadata": {},
   "outputs": [
    {
     "data": {
      "text/plain": [
       "13.500458550441692"
      ]
     },
     "execution_count": 56,
     "metadata": {},
     "output_type": "execute_result"
    }
   ],
   "source": [
    "calculate_frechet_distance(mu_1, sigma_1, mu_2, sigma_2)"
   ]
  },
  {
   "cell_type": "code",
   "execution_count": 17,
   "id": "16ebd9ef-8a03-4637-a5df-46971912d6b2",
   "metadata": {},
   "outputs": [],
   "source": [
    "from torchvision.datasets import ImageFolder\n",
    "from torchvision.transforms import Compose, Resize, Normalize, ToTensor, RandomCrop"
   ]
  },
  {
   "cell_type": "code",
   "execution_count": null,
   "id": "f7b101f4-46f0-4092-adb4-437a0da4ff32",
   "metadata": {},
   "outputs": [],
   "source": [
    "transform = Compose([Resize((512, 512)), ToTensor(), Normalize((0.5, 0.5, 0.5), (0.5, 0.5, 0.5))])\n",
    "dataset = ImageFolder('/home/jovyan/data/dataset/data', transform=transform)"
   ]
  },
  {
   "cell_type": "code",
   "execution_count": null,
   "id": "2ecc434b-778b-4eee-b62a-dfb3b5ac45d1",
   "metadata": {},
   "outputs": [],
   "source": [
    "idx = list(range(len(dataset)))\n",
    "test_size = int(len(idx) * 0.1)\n",
    "train_idx, test_idx = idx[:-test_size], idx[-test_size:]\n",
    "train_set, test_set = Subset(dataset, train_idx), Subset(dataset, test_idx)"
   ]
  },
  {
   "cell_type": "code",
   "execution_count": null,
   "id": "0003801f-cea2-4020-9d26-3bd792ad7470",
   "metadata": {},
   "outputs": [],
   "source": [
    "dataset[0].shape"
   ]
  },
  {
   "cell_type": "code",
   "execution_count": null,
   "id": "3878c5fe-c707-4d46-9fa2-a425b4b3a466",
   "metadata": {},
   "outputs": [],
   "source": [
    "train_idx[:test_size]"
   ]
  },
  {
   "cell_type": "code",
   "execution_count": null,
   "id": "d203ab4b-1247-4f37-9e07-73687cde354e",
   "metadata": {},
   "outputs": [],
   "source": [
    "test_set"
   ]
  },
  {
   "cell_type": "code",
   "execution_count": null,
   "id": "5c5328ce-68a3-4966-b0d7-6c8abbca6bb1",
   "metadata": {},
   "outputs": [],
   "source": [
    "test_sampler1 = LoaderSampler(test_set)"
   ]
  },
  {
   "cell_type": "code",
   "execution_count": null,
   "id": "0df13d0d-98ef-4912-9afe-8779a44bb640",
   "metadata": {},
   "outputs": [],
   "source": [
    "for batch in test_sampler1.loader:\n",
    "    print(batch.shape)"
   ]
  },
  {
   "cell_type": "code",
   "execution_count": 23,
   "id": "199cae7c-ca23-4b5b-8218-e1edf9898bad",
   "metadata": {},
   "outputs": [],
   "source": [
    "test_sampler1 = LoaderSampler(DataLoader(test_set, shuffle=True, num_workers=0, batch_size=32), 'cuda')"
   ]
  },
  {
   "cell_type": "code",
   "execution_count": 33,
   "id": "5bd76f3f-32ba-4d19-8ef6-414efddd5461",
   "metadata": {},
   "outputs": [],
   "source": [
    "from src.inception import InceptionV3\n",
    "\n",
    "\n",
    "def get_loader_stats1(loader, batch_size=8, verbose=False):\n",
    "    dims = 2048\n",
    "    block_idx = InceptionV3.BLOCK_INDEX_BY_DIM[dims]\n",
    "    model = InceptionV3([block_idx]).cuda()\n",
    "    freeze(model)\n",
    "    \n",
    "    size = len(loader.dataset)\n",
    "    pred_arr = []\n",
    "    \n",
    "    with torch.no_grad():\n",
    "        for step, X in enumerate(loader) if not verbose else tqdm(enumerate(loader)):\n",
    "            for i in range(0, len(X), batch_size):\n",
    "                start, end = i, min(i + batch_size, len(X))\n",
    "                batch = ((X[start:end] + 1) / 2).type(torch.FloatTensor).cuda()\n",
    "                pred_arr.append(model(batch)[0].cpu().data.numpy().reshape(end-start, -1))\n",
    "\n",
    "    pred_arr = np.vstack(pred_arr)\n",
    "    mu, sigma = np.mean(pred_arr, axis=0), np.cov(pred_arr, rowvar=False)\n",
    "    gc.collect(); torch.cuda.empty_cache()\n",
    "    return mu, sigma"
   ]
  },
  {
   "cell_type": "code",
   "execution_count": 34,
   "id": "c40c9892-e794-4c7e-a5bb-c4cdf56c0c9f",
   "metadata": {},
   "outputs": [],
   "source": [
    "mu1, sigma1 = get_loader_stats1(test_sampler1.loader)"
   ]
  },
  {
   "cell_type": "code",
   "execution_count": 36,
   "id": "246d57ea-e2c8-411d-9988-4eba8db580af",
   "metadata": {},
   "outputs": [],
   "source": [
    "from src.fid_score import calculate_frechet_distance\n",
    "\n",
    "fid = calculate_frechet_distance(mu, sigma, mu1, sigma1)"
   ]
  },
  {
   "cell_type": "code",
   "execution_count": 37,
   "id": "bd92ea86-0a9e-4156-ac4e-678a0c2533ed",
   "metadata": {},
   "outputs": [
    {
     "data": {
      "text/plain": [
       "32.95988819246031"
      ]
     },
     "execution_count": 37,
     "metadata": {},
     "output_type": "execute_result"
    }
   ],
   "source": [
    "fid"
   ]
  },
  {
   "cell_type": "code",
   "execution_count": null,
   "id": "ef89e99b-f256-4f2a-a38a-4eae91e962fe",
   "metadata": {},
   "outputs": [],
   "source": [
    "for DATASET, DATASET_PATH, IMG_SIZE in tqdm(DATASET_LIST):\n",
    "    print('Processing {}'.format(DATASET))\n",
    "    sampler, test_sampler = load_dataset(DATASET, DATASET_PATH, img_size=IMG_SIZE)\n",
    "    \n",
    "    \n",
    "    \n",
    "    print('Dataset {} loaded'.format(DATASET))\n",
    "\n",
    "    mu, sigma = get_loader_stats(test_sampler.loader)\n",
    "    print('Trace of sigma: {}'.format(np.trace(sigma)))\n",
    "    stats = {'mu' : mu.tolist(), 'sigma' : sigma.tolist()}\n",
    "    print('Stats computed')\n",
    "\n",
    "    filename = '{}_{}_test.json'.format(DATASET, IMG_SIZE)\n",
    "    with open(filename, 'w') as fp:\n",
    "        json.dump(stats, fp)\n",
    "    print('States saved to {}'.format(filename))"
   ]
  }
 ],
 "metadata": {
  "kernelspec": {
   "display_name": "Python 3 (ipykernel)",
   "language": "python",
   "name": "python3"
  },
  "language_info": {
   "codemirror_mode": {
    "name": "ipython",
    "version": 3
   },
   "file_extension": ".py",
   "mimetype": "text/x-python",
   "name": "python",
   "nbconvert_exporter": "python",
   "pygments_lexer": "ipython3",
   "version": "3.7.12"
  }
 },
 "nbformat": 4,
 "nbformat_minor": 5
}
