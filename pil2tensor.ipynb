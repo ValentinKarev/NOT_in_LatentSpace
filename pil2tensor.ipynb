{
 "cells": [
  {
   "cell_type": "code",
   "execution_count": 1,
   "id": "efbad73d-482f-4d5b-bf7f-19b02fa7a713",
   "metadata": {},
   "outputs": [
    {
     "name": "stderr",
     "output_type": "stream",
     "text": [
      "/home/user/conda/lib/python3.7/site-packages/librosa/core/constantq.py:1059: DeprecationWarning: `np.complex` is a deprecated alias for the builtin `complex`. To silence this warning, use `complex` by itself. Doing this will not modify any behavior and is safe. If you specifically wanted the numpy scalar type, use `np.complex128` here.\n",
      "Deprecated in NumPy 1.20; for more details and guidance: https://numpy.org/devdocs/release/1.20.0-notes.html#deprecations\n",
      "  dtype=np.complex,\n"
     ]
    }
   ],
   "source": [
    "import os, sys\n",
    "sys.path.append(\"..\")\n",
    "\n",
    "import matplotlib\n",
    "import numpy as np\n",
    "import matplotlib.pyplot as plt\n",
    "%matplotlib inline \n",
    "\n",
    "import numpy as np\n",
    "import torch\n",
    "import torch.nn as nn\n",
    "import torchvision\n",
    "import gc\n",
    "\n",
    "from src.tools import unfreeze, freeze\n",
    "from src.tools import load_dataset, get_loader_stats\n",
    "\n",
    "from copy import deepcopy\n",
    "import json\n",
    "\n",
    "from tqdm import tqdm_notebook as tqdm\n",
    "from IPython.display import clear_output\n",
    "\n",
    "# This needed to use dataloaders for some datasets\n",
    "from PIL import PngImagePlugin\n",
    "LARGE_ENOUGH_NUMBER = 100\n",
    "PngImagePlugin.MAX_TEXT_CHUNK = LARGE_ENOUGH_NUMBER * (1024**2)"
   ]
  },
  {
   "cell_type": "code",
   "execution_count": 2,
   "id": "de09b7b1-08da-436c-a557-da40a5a0c2df",
   "metadata": {},
   "outputs": [],
   "source": [
    "DEVICE_ID = 0\n",
    "\n",
    "DATASET_LIST = [\n",
    "#    ('handbag', '../../data/handbag_128.hdf5', 64),\n",
    "#    ('handbag', '../../data/handbag_128.hdf5', 128),\n",
    "#    ('shoes', '../../data/shoes_128.hdf5', 64),\n",
    "#    ('shoes', '../../data/shoes_128.hdf5', 128),\n",
    "    ('celeba_female', '/home/jovyan/data/CelebA_HQ_face_gender_dataset', 64),\n",
    "    ('celeba_male', '/home/jovyan/data/CelebA_HQ_face_gender_dataset', 64),\n",
    "#    ('aligned_anime_faces', '../../data/aligned_anime_faces', 64),\n",
    "#    ('aligned_anime_faces', '../../data/aligned_anime_faces', 128),\n",
    "]\n",
    "\n",
    "assert torch.cuda.is_available()\n",
    "torch.cuda.set_device(f'cuda:{DEVICE_ID}')"
   ]
  },
  {
   "cell_type": "code",
   "execution_count": 3,
   "id": "68eb163c-adf5-440f-80ca-973b2d20243b",
   "metadata": {},
   "outputs": [],
   "source": [
    "from torchvision.transforms import Compose, Resize, Normalize, ToTensor, RandomCrop\n",
    "from torchvision.datasets import ImageFolder\n",
    "\n",
    "\n",
    "transform = Compose([Resize((64, 64)), ToTensor(), Normalize((0.5, 0.5, 0.5), (0.5, 0.5, 0.5))])\n",
    "dataset = ImageFolder('/home/jovyan/data/CelebA_HQ_face_gender_dataset', transform=transform)\n",
    "\n",
    "idx_f = torch.load('/home/jovyan/NOT_in_latent_space/female.pt').to(int)\n",
    "\n",
    "idx_m = torch.load('/home/jovyan/NOT_in_latent_space/male.pt').to(int)\n",
    "            \n",
    "    "
   ]
  },
  {
   "cell_type": "code",
   "execution_count": 10,
   "id": "fe89c842-8477-4201-947a-6909b38d6ebb",
   "metadata": {},
   "outputs": [
    {
     "ename": "SyntaxError",
     "evalue": "invalid syntax (316238716.py, line 1)",
     "output_type": "error",
     "traceback": [
      "\u001b[0;36m  File \u001b[0;32m\"/tmp/ipykernel_29482/316238716.py\"\u001b[0;36m, line \u001b[0;32m1\u001b[0m\n\u001b[0;31m    dataset[*idx_f]\u001b[0m\n\u001b[0m            ^\u001b[0m\n\u001b[0;31mSyntaxError\u001b[0m\u001b[0;31m:\u001b[0m invalid syntax\n"
     ]
    }
   ],
   "source": []
  },
  {
   "cell_type": "code",
   "execution_count": 11,
   "id": "73b3d97c-6574-4b73-a454-db15b862de96",
   "metadata": {},
   "outputs": [
    {
     "name": "stderr",
     "output_type": "stream",
     "text": [
      "/home/user/conda/lib/python3.7/site-packages/ipykernel_launcher.py:4: TqdmDeprecationWarning: This function will be removed in tqdm==5.0.0\n",
      "Please use `tqdm.notebook.tqdm` instead of `tqdm.tqdm_notebook`\n",
      "  after removing the cwd from sys.path.\n"
     ]
    },
    {
     "data": {
      "application/vnd.jupyter.widget-view+json": {
       "model_id": "900f4522d5bd41a2a20fddaceac0b39d",
       "version_major": 2,
       "version_minor": 0
      },
      "text/plain": [
       "  0%|          | 0/18943 [00:00<?, ?it/s]"
      ]
     },
     "metadata": {},
     "output_type": "display_data"
    },
    {
     "data": {
      "application/vnd.jupyter.widget-view+json": {
       "model_id": "cc2d9bb30eba49bfb3a5af2ee82dbda5",
       "version_major": 2,
       "version_minor": 0
      },
      "text/plain": [
       "  0%|          | 0/11057 [00:00<?, ?it/s]"
      ]
     },
     "metadata": {},
     "output_type": "display_data"
    }
   ],
   "source": [
    "male = []\n",
    "female = []\n",
    "\n",
    "for i in tqdm(idx_f):\n",
    "    tensor, _ = dataset[i]\n",
    "\n",
    "    female.append(tensor)\n",
    "    \n",
    "    \n",
    "for i in tqdm(idx_m):\n",
    "    tensor, _ = dataset[i]\n",
    "\n",
    "    male.append(tensor)"
   ]
  },
  {
   "cell_type": "code",
   "execution_count": 20,
   "id": "f32e2d19-8dbb-43ad-99d5-3d1cbec626ca",
   "metadata": {},
   "outputs": [],
   "source": [
    "f = torch.stack(female)\n",
    "\n",
    "m = torch.stack(male)"
   ]
  },
  {
   "cell_type": "code",
   "execution_count": 22,
   "id": "de632500-5ce9-49bc-84fd-9e609470d73a",
   "metadata": {},
   "outputs": [],
   "source": [
    "torch.save(f, '/home/jovyan/data/tensor_female.pt')\n",
    "torch.save(m, '/home/jovyan/data/tensor_male.pt')"
   ]
  }
 ],
 "metadata": {
  "kernelspec": {
   "display_name": "Python 3 (ipykernel)",
   "language": "python",
   "name": "python3"
  },
  "language_info": {
   "codemirror_mode": {
    "name": "ipython",
    "version": 3
   },
   "file_extension": ".py",
   "mimetype": "text/x-python",
   "name": "python",
   "nbconvert_exporter": "python",
   "pygments_lexer": "ipython3",
   "version": "3.7.12"
  }
 },
 "nbformat": 4,
 "nbformat_minor": 5
}
